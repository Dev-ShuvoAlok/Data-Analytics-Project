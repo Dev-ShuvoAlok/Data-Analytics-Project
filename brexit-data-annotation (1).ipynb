{
 "cells": [
  {
   "cell_type": "code",
   "execution_count": 1,
   "id": "7bc70d71",
   "metadata": {
    "execution": {
     "iopub.execute_input": "2023-05-07T09:22:07.813063Z",
     "iopub.status.busy": "2023-05-07T09:22:07.812671Z",
     "iopub.status.idle": "2023-05-07T09:22:09.420473Z",
     "shell.execute_reply": "2023-05-07T09:22:09.419590Z"
    },
    "papermill": {
     "duration": 1.618269,
     "end_time": "2023-05-07T09:22:09.422722",
     "exception": false,
     "start_time": "2023-05-07T09:22:07.804453",
     "status": "completed"
    },
    "tags": []
   },
   "outputs": [
    {
     "name": "stderr",
     "output_type": "stream",
     "text": [
      "/opt/conda/lib/python3.10/site-packages/scipy/__init__.py:146: UserWarning: A NumPy version >=1.16.5 and <1.23.0 is required for this version of SciPy (detected version 1.23.5\n",
      "  warnings.warn(f\"A NumPy version >={np_minversion} and <{np_maxversion}\"\n"
     ]
    }
   ],
   "source": [
    "import numpy as np \n",
    "import pandas as pd \n",
    "import os\n",
    "import matplotlib.pyplot as pl\n",
    "import seaborn as sns\n",
    "import warnings\n",
    "import matplotlib as plt\n",
    "warnings.filterwarnings('ignore')"
   ]
  },
  {
   "cell_type": "code",
   "execution_count": 2,
   "id": "d4936985",
   "metadata": {
    "execution": {
     "iopub.execute_input": "2023-05-07T09:22:09.435862Z",
     "iopub.status.busy": "2023-05-07T09:22:09.434889Z",
     "iopub.status.idle": "2023-05-07T09:22:09.441099Z",
     "shell.execute_reply": "2023-05-07T09:22:09.440291Z"
    },
    "papermill": {
     "duration": 0.013988,
     "end_time": "2023-05-07T09:22:09.443009",
     "exception": false,
     "start_time": "2023-05-07T09:22:09.429021",
     "status": "completed"
    },
    "tags": []
   },
   "outputs": [],
   "source": [
    "def data_conv (path):\n",
    "    list_item=[]\n",
    "    with open(path) as f:\n",
    "        lines = f.readlines()\n",
    "    #     print(lines)\n",
    "        print(len(lines))\n",
    "        for i in range (0,len(lines)):\n",
    "            words = lines[i].split('|',2) #max split 3\n",
    "            if(len(words)>2):\n",
    "                time=words[1].split(\" \") \n",
    "                if(len(time)==6):\n",
    "                    item=[words[0],*time,words[2]]\n",
    "            #         print(item)\n",
    "                    list_item.append(item)\n",
    "    return list_item"
   ]
  },
  {
   "cell_type": "code",
   "execution_count": 3,
   "id": "9c145bf2",
   "metadata": {
    "execution": {
     "iopub.execute_input": "2023-05-07T09:22:09.452891Z",
     "iopub.status.busy": "2023-05-07T09:22:09.452631Z",
     "iopub.status.idle": "2023-05-07T09:22:09.481107Z",
     "shell.execute_reply": "2023-05-07T09:22:09.480159Z"
    },
    "papermill": {
     "duration": 0.035904,
     "end_time": "2023-05-07T09:22:09.483360",
     "exception": false,
     "start_time": "2023-05-07T09:22:09.447456",
     "status": "completed"
    },
    "tags": []
   },
   "outputs": [
    {
     "data": {
      "text/html": [
       "<div>\n",
       "<style scoped>\n",
       "    .dataframe tbody tr th:only-of-type {\n",
       "        vertical-align: middle;\n",
       "    }\n",
       "\n",
       "    .dataframe tbody tr th {\n",
       "        vertical-align: top;\n",
       "    }\n",
       "\n",
       "    .dataframe thead th {\n",
       "        text-align: right;\n",
       "    }\n",
       "</style>\n",
       "<table border=\"1\" class=\"dataframe\">\n",
       "  <thead>\n",
       "    <tr style=\"text-align: right;\">\n",
       "      <th></th>\n",
       "      <th>id</th>\n",
       "      <th>day</th>\n",
       "      <th>month</th>\n",
       "      <th>date</th>\n",
       "      <th>time</th>\n",
       "      <th>GMT</th>\n",
       "      <th>year</th>\n",
       "      <th>text</th>\n",
       "    </tr>\n",
       "  </thead>\n",
       "  <tbody>\n",
       "  </tbody>\n",
       "</table>\n",
       "</div>"
      ],
      "text/plain": [
       "Empty DataFrame\n",
       "Columns: [id, day, month, date, time, GMT, year, text]\n",
       "Index: []"
      ]
     },
     "execution_count": 3,
     "metadata": {},
     "output_type": "execute_result"
    }
   ],
   "source": [
    "import pandas as pd\n",
    "df = pd.DataFrame(columns=[\"id\",\"day\",\"month\",\"date\",\"time\",\"GMT\",\"year\",\"text\"])\n",
    "df"
   ]
  },
  {
   "cell_type": "code",
   "execution_count": 4,
   "id": "4ff5449f",
   "metadata": {
    "execution": {
     "iopub.execute_input": "2023-05-07T09:22:09.493864Z",
     "iopub.status.busy": "2023-05-07T09:22:09.493606Z",
     "iopub.status.idle": "2023-05-07T09:22:19.075400Z",
     "shell.execute_reply": "2023-05-07T09:22:19.073592Z"
    },
    "papermill": {
     "duration": 9.589246,
     "end_time": "2023-05-07T09:22:19.077408",
     "exception": false,
     "start_time": "2023-05-07T09:22:09.488162",
     "status": "completed"
    },
    "tags": []
   },
   "outputs": [
    {
     "name": "stdout",
     "output_type": "stream",
     "text": [
      "/kaggle/input/da-brexit/Dataset/Dataset/AaronHEllis.txt\n",
      "3302\n",
      "/kaggle/input/da-brexit/Dataset/Dataset/AindrasB.txt\n",
      "3172\n",
      "/kaggle/input/da-brexit/Dataset/Dataset/AjPegs.txt\n",
      "3189\n",
      "/kaggle/input/da-brexit/Dataset/Dataset/AlbertoNardelli.txt\n",
      "3211\n",
      "/kaggle/input/da-brexit/Dataset/Dataset/AmyRay_.txt\n",
      "3176\n",
      "/kaggle/input/da-brexit/Dataset/Dataset/Amychurchquinn.txt\n",
      "3239\n",
      "/kaggle/input/da-brexit/Dataset/Dataset/AnRiabhach.txt\n",
      "2838\n",
      "/kaggle/input/da-brexit/Dataset/Dataset/AndyJWhite.txt\n",
      "3257\n",
      "/kaggle/input/da-brexit/Dataset/Dataset/ArcudiEa.txt\n",
      "56\n",
      "/kaggle/input/da-brexit/Dataset/Dataset/ArronPalmer.txt\n",
      "3220\n",
      "/kaggle/input/da-brexit/Dataset/Dataset/BillDudleyNorth.txt\n",
      "3223\n",
      "/kaggle/input/da-brexit/Dataset/Dataset/ColinStout.txt\n",
      "3237\n",
      "/kaggle/input/da-brexit/Dataset/Dataset/DanHayes16.txt\n",
      "3215\n",
      "/kaggle/input/da-brexit/Dataset/Dataset/DanKennett.txt\n",
      "3217\n",
      "/kaggle/input/da-brexit/Dataset/Dataset/DazzaRigs89.txt\n",
      "3164\n",
      "/kaggle/input/da-brexit/Dataset/Dataset/EmmaKennedy.txt\n",
      "600\n",
      "/kaggle/input/da-brexit/Dataset/Dataset/FelicityMorse.txt\n",
      "3234\n",
      "/kaggle/input/da-brexit/Dataset/Dataset/FergusMMurray.txt\n",
      "3214\n",
      "/kaggle/input/da-brexit/Dataset/Dataset/FraserNelson.txt\n",
      "3218\n",
      "/kaggle/input/da-brexit/Dataset/Dataset/FreelanceFoz.txt\n",
      "3204\n",
      "/kaggle/input/da-brexit/Dataset/Dataset/GKenna49.txt\n",
      "3239\n",
      "/kaggle/input/da-brexit/Dataset/Dataset/GaelleLegrand88.txt\n",
      "285\n",
      "/kaggle/input/da-brexit/Dataset/Dataset/GeoffGubb.txt\n",
      "1980\n",
      "/kaggle/input/da-brexit/Dataset/Dataset/GwenJBrewer.txt\n",
      "3218\n",
      "/kaggle/input/da-brexit/Dataset/Dataset/HenryFinnegan.txt\n",
      "459\n",
      "/kaggle/input/da-brexit/Dataset/Dataset/IainMcKnight.txt\n",
      "2610\n",
      "/kaggle/input/da-brexit/Dataset/Dataset/IanKenyon.txt\n",
      "3143\n",
      "/kaggle/input/da-brexit/Dataset/Dataset/ImadMesdoua.txt\n",
      "3207\n",
      "/kaggle/input/da-brexit/Dataset/Dataset/JF_Hatt.txt\n",
      "3243\n",
      "/kaggle/input/da-brexit/Dataset/Dataset/JadeEllis94.txt\n",
      "3197\n",
      "/kaggle/input/da-brexit/Dataset/Dataset/JakubKrupa.txt\n",
      "3217\n",
      "/kaggle/input/da-brexit/Dataset/Dataset/Joe3Carroll.txt\n",
      "3200\n",
      "/kaggle/input/da-brexit/Dataset/Dataset/JolyonMaugham.txt\n",
      "3202\n",
      "/kaggle/input/da-brexit/Dataset/Dataset/Jonathan__Leake.txt\n",
      "3185\n",
      "/kaggle/input/da-brexit/Dataset/Dataset/JuliaHB1.txt\n",
      "3248\n",
      "/kaggle/input/da-brexit/Dataset/Dataset/KateEOSullivan.txt\n",
      "3094\n",
      "/kaggle/input/da-brexit/Dataset/Dataset/KayBibi.txt\n",
      "1567\n",
      "/kaggle/input/da-brexit/Dataset/Dataset/Kristian_Walsh.txt\n",
      "3206\n",
      "/kaggle/input/da-brexit/Dataset/Dataset/KulpaBart.txt\n",
      "3243\n",
      "/kaggle/input/da-brexit/Dataset/Dataset/Liam_Bywater.txt\n",
      "3238\n",
      "/kaggle/input/da-brexit/Dataset/Dataset/LordJoe0.txt\n",
      "1163\n",
      "/kaggle/input/da-brexit/Dataset/Dataset/MartinDaubney.txt\n",
      "9669\n",
      "/kaggle/input/da-brexit/Dataset/Dataset/MerseysideFisch.txt\n",
      "3191\n",
      "/kaggle/input/da-brexit/Dataset/Dataset/MichaelRosenYes.txt\n",
      "3212\n",
      "/kaggle/input/da-brexit/Dataset/Dataset/MiguelDelaney.txt\n",
      "3239\n",
      "/kaggle/input/da-brexit/Dataset/Dataset/MissGuscoth.txt\n",
      "3224\n",
      "/kaggle/input/da-brexit/Dataset/Dataset/Moazzam_Begg.txt\n",
      "3192\n",
      "/kaggle/input/da-brexit/Dataset/Dataset/MurtazaGeoNews.txt\n",
      "3209\n",
      "/kaggle/input/da-brexit/Dataset/Dataset/NoainBakhshi.txt\n",
      "3195\n",
      "/kaggle/input/da-brexit/Dataset/Dataset/OrangeAutumnAir.txt\n",
      "1861\n",
      "/kaggle/input/da-brexit/Dataset/Dataset/OwenJones84.txt\n",
      "6445\n",
      "/kaggle/input/da-brexit/Dataset/Dataset/Prof_Phillipson.txt\n",
      "3242\n",
      "/kaggle/input/da-brexit/Dataset/Dataset/RaajShamji.txt\n",
      "987\n",
      "/kaggle/input/da-brexit/Dataset/Dataset/RachelSJohnson.txt\n",
      "3189\n",
      "/kaggle/input/da-brexit/Dataset/Dataset/RealDMitchell.txt\n",
      "3214\n",
      "/kaggle/input/da-brexit/Dataset/Dataset/SafarazAli.txt\n",
      "3238\n",
      "/kaggle/input/da-brexit/Dataset/Dataset/SamWiseSW.txt\n",
      "3229\n",
      "/kaggle/input/da-brexit/Dataset/Dataset/ScottLucas_EA.txt\n",
      "3223\n",
      "/kaggle/input/da-brexit/Dataset/Dataset/Sharkster93.txt\n",
      "3202\n",
      "/kaggle/input/da-brexit/Dataset/Dataset/SteveH1982.txt\n",
      "3230\n",
      "/kaggle/input/da-brexit/Dataset/Dataset/StigAbell.txt\n",
      "3227\n",
      "/kaggle/input/da-brexit/Dataset/Dataset/StuartWilksHeeg.txt\n",
      "3232\n",
      "/kaggle/input/da-brexit/Dataset/Dataset/TheJamieMc.txt\n",
      "688\n",
      "/kaggle/input/da-brexit/Dataset/Dataset/The_Pars.txt\n",
      "1588\n",
      "/kaggle/input/da-brexit/Dataset/Dataset/VictoriaPeckham.txt\n",
      "3236\n",
      "/kaggle/input/da-brexit/Dataset/Dataset/WhistlingDixie4.txt\n",
      "3246\n",
      "/kaggle/input/da-brexit/Dataset/Dataset/_Aaron_Anthony_.txt\n",
      "2161\n",
      "/kaggle/input/da-brexit/Dataset/Dataset/_JasvirSingh.txt\n",
      "91\n",
      "/kaggle/input/da-brexit/Dataset/Dataset/abiphillipsuk.txt\n",
      "3220\n",
      "/kaggle/input/da-brexit/Dataset/Dataset/abradacabla.txt\n",
      "3240\n",
      "/kaggle/input/da-brexit/Dataset/Dataset/adamwaddingham.txt\n",
      "3196\n",
      "/kaggle/input/da-brexit/Dataset/Dataset/adoublec.txt\n",
      "3193\n",
      "/kaggle/input/da-brexit/Dataset/Dataset/andrewhistorian.txt\n",
      "3233\n",
      "/kaggle/input/da-brexit/Dataset/Dataset/ashnagesh.txt\n",
      "3217\n",
      "/kaggle/input/da-brexit/Dataset/Dataset/attikac.txt\n",
      "2152\n",
      "/kaggle/input/da-brexit/Dataset/Dataset/b0redinbucks.txt\n",
      "3193\n",
      "/kaggle/input/da-brexit/Dataset/Dataset/bethantrolley.txt\n",
      "3207\n",
      "/kaggle/input/da-brexit/Dataset/Dataset/brianklaas.txt\n",
      "2166\n",
      "/kaggle/input/da-brexit/Dataset/Dataset/brucel.txt\n",
      "6271\n",
      "/kaggle/input/da-brexit/Dataset/Dataset/campbellclaret.txt\n",
      "6422\n",
      "/kaggle/input/da-brexit/Dataset/Dataset/carltgraham.txt\n",
      "3211\n",
      "/kaggle/input/da-brexit/Dataset/Dataset/charltonbrooker.txt\n",
      "8455\n",
      "/kaggle/input/da-brexit/Dataset/Dataset/chrisshipitv.txt\n",
      "3240\n",
      "/kaggle/input/da-brexit/Dataset/Dataset/cliffordstott.txt\n",
      "3189\n",
      "/kaggle/input/da-brexit/Dataset/Dataset/davekennedy6.txt\n",
      "3228\n",
      "/kaggle/input/da-brexit/Dataset/Dataset/davies_will.txt\n",
      "3224\n",
      "/kaggle/input/da-brexit/Dataset/Dataset/ddubdrahcir.txt\n",
      "2767\n",
      "/kaggle/input/da-brexit/Dataset/Dataset/deansintro.txt\n",
      "3197\n",
      "/kaggle/input/da-brexit/Dataset/Dataset/didierdelmer.txt\n",
      "3225\n",
      "/kaggle/input/da-brexit/Dataset/Dataset/dr_rick.txt\n",
      "3202\n",
      "/kaggle/input/da-brexit/Dataset/Dataset/dukezy.txt\n",
      "3168\n",
      "/kaggle/input/da-brexit/Dataset/Dataset/falsam1.txt\n",
      "346\n",
      "/kaggle/input/da-brexit/Dataset/Dataset/georgegalloway.txt\n",
      "6368\n",
      "/kaggle/input/da-brexit/Dataset/Dataset/ggerrard.txt\n",
      "2415\n",
      "/kaggle/input/da-brexit/Dataset/Dataset/harrydoyle96.txt\n",
      "3194\n",
      "/kaggle/input/da-brexit/Dataset/Dataset/holland_tom.txt\n",
      "3244\n",
      "/kaggle/input/da-brexit/Dataset/Dataset/ian_livingstone.txt\n",
      "3245\n",
      "/kaggle/input/da-brexit/Dataset/Dataset/itsjamesherring.txt\n",
      "1101\n",
      "/kaggle/input/da-brexit/Dataset/Dataset/jamesdcourtney.txt\n",
      "3189\n",
      "/kaggle/input/da-brexit/Dataset/Dataset/jamiebrannon10.txt\n",
      "3199\n",
      "/kaggle/input/da-brexit/Dataset/Dataset/jnmulholland.txt\n",
      "928\n",
      "/kaggle/input/da-brexit/Dataset/Dataset/jonnycherry.txt\n",
      "562\n",
      "/kaggle/input/da-brexit/Dataset/Dataset/kate_slo.txt\n",
      "792\n",
      "/kaggle/input/da-brexit/Dataset/Dataset/kierFVK.txt\n",
      "3222\n",
      "/kaggle/input/da-brexit/Dataset/Dataset/kmirandalondon.txt\n",
      "3211\n",
      "/kaggle/input/da-brexit/Dataset/Dataset/markcwalton.txt\n",
      "3232\n",
      "/kaggle/input/da-brexit/Dataset/Dataset/markpeachey.txt\n",
      "3191\n",
      "/kaggle/input/da-brexit/Dataset/Dataset/megwalker85.txt\n",
      "3139\n",
      "/kaggle/input/da-brexit/Dataset/Dataset/mike_rat.txt\n",
      "3245\n",
      "/kaggle/input/da-brexit/Dataset/Dataset/mikebarker2.txt\n",
      "3186\n",
      "/kaggle/input/da-brexit/Dataset/Dataset/munropete.txt\n",
      "1781\n",
      "/kaggle/input/da-brexit/Dataset/Dataset/neilvic.txt\n",
      "3253\n",
      "/kaggle/input/da-brexit/Dataset/Dataset/patcondell.txt\n",
      "1798\n",
      "/kaggle/input/da-brexit/Dataset/Dataset/pgreener82.txt\n",
      "3168\n",
      "/kaggle/input/da-brexit/Dataset/Dataset/philmunnsradio.txt\n",
      "3191\n",
      "/kaggle/input/da-brexit/Dataset/Dataset/polblonde.txt\n",
      "3233\n",
      "/kaggle/input/da-brexit/Dataset/Dataset/quigleyp.txt\n",
      "3205\n",
      "/kaggle/input/da-brexit/Dataset/Dataset/sgardner.txt\n",
      "3222\n",
      "/kaggle/input/da-brexit/Dataset/Dataset/sidfenlon.txt\n",
      "3181\n",
      "/kaggle/input/da-brexit/Dataset/Dataset/sonofspeke.txt\n",
      "3213\n",
      "/kaggle/input/da-brexit/Dataset/Dataset/steph_add.txt\n",
      "3105\n",
      "/kaggle/input/da-brexit/Dataset/Dataset/suemitton1.txt\n",
      "3226\n",
      "/kaggle/input/da-brexit/Dataset/Dataset/sunny_hundal.txt\n",
      "2138\n",
      "/kaggle/input/da-brexit/Dataset/Dataset/susiejverrill.txt\n",
      "3235\n",
      "/kaggle/input/da-brexit/Dataset/Dataset/tomturrell.txt\n",
      "363\n",
      "/kaggle/input/da-brexit/Dataset/Dataset/vwozone.txt\n",
      "3179\n",
      "/kaggle/input/da-brexit/Dataset/Dataset/woodsphil.txt\n",
      "225\n"
     ]
    }
   ],
   "source": [
    "import os\n",
    "# folder path\n",
    "dir_path = r'/kaggle/input/da-brexit/Dataset/Dataset/'\n",
    "directory='/kaggle/input/da-brexit/Dataset/Dataset/'\n",
    "# list to store files\n",
    "res = []\n",
    "# Iterate directory\n",
    "for path in os.listdir(dir_path):\n",
    "    # check if current path is a file\n",
    "    if os.path.isfile(os.path.join(dir_path, path)):\n",
    "        res.append(path)\n",
    "res.sort()\n",
    "for i in range (0,len(res)):\n",
    "    filename= directory+ res[i]\n",
    "    print(filename)\n",
    "    list_item=data_conv(filename)\n",
    "    new_df = pd.DataFrame(list_item,columns=[\"id\",\"day\",\"month\",\"date\",\"time\",\"GMT\",\"year\",\"text\"])       \n",
    "    df=pd.concat([df, new_df], axis=0)"
   ]
  },
  {
   "cell_type": "code",
   "execution_count": 5,
   "id": "943e2fb1",
   "metadata": {
    "execution": {
     "iopub.execute_input": "2023-05-07T09:22:19.092631Z",
     "iopub.status.busy": "2023-05-07T09:22:19.092358Z",
     "iopub.status.idle": "2023-05-07T09:22:19.106178Z",
     "shell.execute_reply": "2023-05-07T09:22:19.105263Z"
    },
    "papermill": {
     "duration": 0.023742,
     "end_time": "2023-05-07T09:22:19.108225",
     "exception": false,
     "start_time": "2023-05-07T09:22:19.084483",
     "status": "completed"
    },
    "tags": []
   },
   "outputs": [
    {
     "data": {
      "text/html": [
       "<div>\n",
       "<style scoped>\n",
       "    .dataframe tbody tr th:only-of-type {\n",
       "        vertical-align: middle;\n",
       "    }\n",
       "\n",
       "    .dataframe tbody tr th {\n",
       "        vertical-align: top;\n",
       "    }\n",
       "\n",
       "    .dataframe thead th {\n",
       "        text-align: right;\n",
       "    }\n",
       "</style>\n",
       "<table border=\"1\" class=\"dataframe\">\n",
       "  <thead>\n",
       "    <tr style=\"text-align: right;\">\n",
       "      <th></th>\n",
       "      <th>id</th>\n",
       "      <th>day</th>\n",
       "      <th>month</th>\n",
       "      <th>date</th>\n",
       "      <th>time</th>\n",
       "      <th>GMT</th>\n",
       "      <th>year</th>\n",
       "      <th>text</th>\n",
       "    </tr>\n",
       "  </thead>\n",
       "  <tbody>\n",
       "    <tr>\n",
       "      <th>0</th>\n",
       "      <td>600225289147256832</td>\n",
       "      <td>Mon</td>\n",
       "      <td>May</td>\n",
       "      <td>18</td>\n",
       "      <td>09:03:55</td>\n",
       "      <td>+0000</td>\n",
       "      <td>2015</td>\n",
       "      <td>在龙胜！\\n</td>\n",
       "    </tr>\n",
       "    <tr>\n",
       "      <th>1</th>\n",
       "      <td>393362473283117056</td>\n",
       "      <td>Thu</td>\n",
       "      <td>Oct</td>\n",
       "      <td>24</td>\n",
       "      <td>13:04:56</td>\n",
       "      <td>+0000</td>\n",
       "      <td>2013</td>\n",
       "      <td>@Fenng 大冯啊。你没有觉得我帐号很帅。\\n</td>\n",
       "    </tr>\n",
       "    <tr>\n",
       "      <th>2</th>\n",
       "      <td>393361723249287168</td>\n",
       "      <td>Thu</td>\n",
       "      <td>Oct</td>\n",
       "      <td>24</td>\n",
       "      <td>13:01:57</td>\n",
       "      <td>+0000</td>\n",
       "      <td>2013</td>\n",
       "      <td>其实我上来一次很不容易，有朋友说对我的ID感兴趣。虽然这是我无法割舍的帐号，但是每个人都是有...</td>\n",
       "    </tr>\n",
       "    <tr>\n",
       "      <th>3</th>\n",
       "      <td>382497830134247425</td>\n",
       "      <td>Tue</td>\n",
       "      <td>Sep</td>\n",
       "      <td>24</td>\n",
       "      <td>13:32:43</td>\n",
       "      <td>+0000</td>\n",
       "      <td>2013</td>\n",
       "      <td>还有。为什么我的头像被换成了个鸡蛋。太坏了吧\\n</td>\n",
       "    </tr>\n",
       "    <tr>\n",
       "      <th>4</th>\n",
       "      <td>382497675565744128</td>\n",
       "      <td>Tue</td>\n",
       "      <td>Sep</td>\n",
       "      <td>24</td>\n",
       "      <td>13:32:06</td>\n",
       "      <td>+0000</td>\n",
       "      <td>2013</td>\n",
       "      <td>Why is always someone trying to crack my passw...</td>\n",
       "    </tr>\n",
       "    <tr>\n",
       "      <th>...</th>\n",
       "      <td>...</td>\n",
       "      <td>...</td>\n",
       "      <td>...</td>\n",
       "      <td>...</td>\n",
       "      <td>...</td>\n",
       "      <td>...</td>\n",
       "      <td>...</td>\n",
       "      <td>...</td>\n",
       "    </tr>\n",
       "    <tr>\n",
       "      <th>219</th>\n",
       "      <td>681411964590014464</td>\n",
       "      <td>Mon</td>\n",
       "      <td>Dec</td>\n",
       "      <td>28</td>\n",
       "      <td>09:50:47</td>\n",
       "      <td>+0000</td>\n",
       "      <td>2015</td>\n",
       "      <td>RT @FC_Nomads: We are at home today for a 130 ...</td>\n",
       "    </tr>\n",
       "    <tr>\n",
       "      <th>220</th>\n",
       "      <td>680645043061940224</td>\n",
       "      <td>Sat</td>\n",
       "      <td>Dec</td>\n",
       "      <td>26</td>\n",
       "      <td>07:03:18</td>\n",
       "      <td>+0000</td>\n",
       "      <td>2015</td>\n",
       "      <td>RT @DaveJDailyPost: @dannywynne1878 @woodsphil...</td>\n",
       "    </tr>\n",
       "    <tr>\n",
       "      <th>221</th>\n",
       "      <td>680352672050995200</td>\n",
       "      <td>Fri</td>\n",
       "      <td>Dec</td>\n",
       "      <td>25</td>\n",
       "      <td>11:41:32</td>\n",
       "      <td>+0000</td>\n",
       "      <td>2015</td>\n",
       "      <td>RT @dannywynne1878: @DaveJDailyPost @woodsphil...</td>\n",
       "    </tr>\n",
       "    <tr>\n",
       "      <th>222</th>\n",
       "      <td>680052753259958272</td>\n",
       "      <td>Thu</td>\n",
       "      <td>Dec</td>\n",
       "      <td>24</td>\n",
       "      <td>15:49:45</td>\n",
       "      <td>+0000</td>\n",
       "      <td>2015</td>\n",
       "      <td>@kvoostende @emmabogaert @KustboysKVO @CouckeM...</td>\n",
       "    </tr>\n",
       "    <tr>\n",
       "      <th>223</th>\n",
       "      <td>679961617493291008</td>\n",
       "      <td>Thu</td>\n",
       "      <td>Dec</td>\n",
       "      <td>24</td>\n",
       "      <td>09:47:37</td>\n",
       "      <td>+0000</td>\n",
       "      <td>2015</td>\n",
       "      <td>@DaveJDailyPost @dannywynne1878 @FC_Nomads @mi...</td>\n",
       "    </tr>\n",
       "  </tbody>\n",
       "</table>\n",
       "<p>371985 rows × 8 columns</p>\n",
       "</div>"
      ],
      "text/plain": [
       "                     id  day month date      time    GMT  year  \\\n",
       "0    600225289147256832  Mon   May   18  09:03:55  +0000  2015   \n",
       "1    393362473283117056  Thu   Oct   24  13:04:56  +0000  2013   \n",
       "2    393361723249287168  Thu   Oct   24  13:01:57  +0000  2013   \n",
       "3    382497830134247425  Tue   Sep   24  13:32:43  +0000  2013   \n",
       "4    382497675565744128  Tue   Sep   24  13:32:06  +0000  2013   \n",
       "..                  ...  ...   ...  ...       ...    ...   ...   \n",
       "219  681411964590014464  Mon   Dec   28  09:50:47  +0000  2015   \n",
       "220  680645043061940224  Sat   Dec   26  07:03:18  +0000  2015   \n",
       "221  680352672050995200  Fri   Dec   25  11:41:32  +0000  2015   \n",
       "222  680052753259958272  Thu   Dec   24  15:49:45  +0000  2015   \n",
       "223  679961617493291008  Thu   Dec   24  09:47:37  +0000  2015   \n",
       "\n",
       "                                                  text  \n",
       "0                                               在龙胜！\\n  \n",
       "1                             @Fenng 大冯啊。你没有觉得我帐号很帅。\\n  \n",
       "2    其实我上来一次很不容易，有朋友说对我的ID感兴趣。虽然这是我无法割舍的帐号，但是每个人都是有...  \n",
       "3                             还有。为什么我的头像被换成了个鸡蛋。太坏了吧\\n  \n",
       "4    Why is always someone trying to crack my passw...  \n",
       "..                                                 ...  \n",
       "219  RT @FC_Nomads: We are at home today for a 130 ...  \n",
       "220  RT @DaveJDailyPost: @dannywynne1878 @woodsphil...  \n",
       "221  RT @dannywynne1878: @DaveJDailyPost @woodsphil...  \n",
       "222  @kvoostende @emmabogaert @KustboysKVO @CouckeM...  \n",
       "223  @DaveJDailyPost @dannywynne1878 @FC_Nomads @mi...  \n",
       "\n",
       "[371985 rows x 8 columns]"
      ]
     },
     "execution_count": 5,
     "metadata": {},
     "output_type": "execute_result"
    }
   ],
   "source": [
    "df"
   ]
  },
  {
   "cell_type": "code",
   "execution_count": 6,
   "id": "d88a3d29",
   "metadata": {
    "execution": {
     "iopub.execute_input": "2023-05-07T09:22:19.124427Z",
     "iopub.status.busy": "2023-05-07T09:22:19.123633Z",
     "iopub.status.idle": "2023-05-07T09:22:19.127845Z",
     "shell.execute_reply": "2023-05-07T09:22:19.127056Z"
    },
    "papermill": {
     "duration": 0.014097,
     "end_time": "2023-05-07T09:22:19.129700",
     "exception": false,
     "start_time": "2023-05-07T09:22:19.115603",
     "status": "completed"
    },
    "tags": []
   },
   "outputs": [],
   "source": [
    "# df.to_csv('brexit.csv',index=False)"
   ]
  },
  {
   "cell_type": "code",
   "execution_count": 7,
   "id": "dcf6504a",
   "metadata": {
    "execution": {
     "iopub.execute_input": "2023-05-07T09:22:19.145184Z",
     "iopub.status.busy": "2023-05-07T09:22:19.144704Z",
     "iopub.status.idle": "2023-05-07T09:22:19.151899Z",
     "shell.execute_reply": "2023-05-07T09:22:19.151091Z"
    },
    "papermill": {
     "duration": 0.016953,
     "end_time": "2023-05-07T09:22:19.153753",
     "exception": false,
     "start_time": "2023-05-07T09:22:19.136800",
     "status": "completed"
    },
    "tags": []
   },
   "outputs": [
    {
     "data": {
      "text/plain": [
       "18599.25"
      ]
     },
     "execution_count": 7,
     "metadata": {},
     "output_type": "execute_result"
    }
   ],
   "source": [
    "# stop=\n",
    "import math\n",
    "no_of_df=20\n",
    "row_per_chunk=len(df)/no_of_df\n",
    "row_per_chunk"
   ]
  },
  {
   "cell_type": "code",
   "execution_count": 8,
   "id": "2d1ee700",
   "metadata": {
    "execution": {
     "iopub.execute_input": "2023-05-07T09:22:19.169938Z",
     "iopub.status.busy": "2023-05-07T09:22:19.169168Z",
     "iopub.status.idle": "2023-05-07T09:22:19.174900Z",
     "shell.execute_reply": "2023-05-07T09:22:19.174154Z"
    },
    "papermill": {
     "duration": 0.015505,
     "end_time": "2023-05-07T09:22:19.176641",
     "exception": false,
     "start_time": "2023-05-07T09:22:19.161136",
     "status": "completed"
    },
    "tags": []
   },
   "outputs": [],
   "source": [
    "start=0\n",
    "stop=math.ceil(row_per_chunk)\n",
    "for i in range (0,no_of_df):\n",
    "    if(stop>len(df)):\n",
    "        stop=len(df)\n",
    "\n",
    "    globals()[f\"df{i}\"]=df[start:stop]\n",
    "    start=stop\n",
    "    stop=start+math.ceil(row_per_chunk)"
   ]
  },
  {
   "cell_type": "code",
   "execution_count": 9,
   "id": "3185652e",
   "metadata": {
    "execution": {
     "iopub.execute_input": "2023-05-07T09:22:19.191887Z",
     "iopub.status.busy": "2023-05-07T09:22:19.191644Z",
     "iopub.status.idle": "2023-05-07T09:22:19.198594Z",
     "shell.execute_reply": "2023-05-07T09:22:19.197659Z"
    },
    "papermill": {
     "duration": 0.016608,
     "end_time": "2023-05-07T09:22:19.200393",
     "exception": false,
     "start_time": "2023-05-07T09:22:19.183785",
     "status": "completed"
    },
    "tags": []
   },
   "outputs": [
    {
     "data": {
      "text/plain": [
       "371985"
      ]
     },
     "execution_count": 9,
     "metadata": {},
     "output_type": "execute_result"
    }
   ],
   "source": [
    "sum1=len(df0)+len(df1)+len(df2)+len(df3)+len(df4)+len(df5)+len(df6)+len(df7)+len(df8)+len(df9)\n",
    "sum2=len(df10)+len(df11)+len(df12)+len(df13)+len(df14)+len(df15)+len(df16)+len(df17)+len(df18)+len(df19)\n",
    "sum1+sum2"
   ]
  },
  {
   "cell_type": "code",
   "execution_count": 10,
   "id": "f8bb8dc9",
   "metadata": {
    "execution": {
     "iopub.execute_input": "2023-05-07T09:22:19.216467Z",
     "iopub.status.busy": "2023-05-07T09:22:19.215722Z",
     "iopub.status.idle": "2023-05-07T09:22:19.220317Z",
     "shell.execute_reply": "2023-05-07T09:22:19.219512Z"
    },
    "papermill": {
     "duration": 0.01431,
     "end_time": "2023-05-07T09:22:19.221979",
     "exception": false,
     "start_time": "2023-05-07T09:22:19.207669",
     "status": "completed"
    },
    "tags": []
   },
   "outputs": [],
   "source": [
    "# df0.to_csv('df0.csv',index=False)\n",
    "# df1.to_csv('df1.csv',index=False)\n",
    "# df2.to_csv('df2.csv',index=False)\n",
    "# df3.to_csv('df3.csv',index=False)\n",
    "# df4.to_csv('df4.csv',index=False)\n",
    "# df5.to_csv('df5.csv',index=False)\n",
    "# df6.to_csv('df6.csv',index=False)\n",
    "# df7.to_csv('df7.csv',index=False)\n",
    "# df8.to_csv('df8.csv',index=False)\n",
    "# df9.to_csv('df9.csv',index=False)\n",
    "\n",
    "# df10.to_csv('df10.csv',index=False)\n",
    "# df11.to_csv('df11.csv',index=False)\n",
    "# df12.to_csv('df12.csv',index=False)\n",
    "# df13.to_csv('df13.csv',index=False)\n",
    "# df14.to_csv('df14.csv',index=False)\n",
    "# df15.to_csv('df15.csv',index=False)\n",
    "# df16.to_csv('df16.csv',index=False)\n",
    "# df17.to_csv('df17.csv',index=False)\n",
    "# df18.to_csv('df18.csv',index=False)\n",
    "# df19.to_csv('df19.csv',index=False)\n"
   ]
  },
  {
   "cell_type": "code",
   "execution_count": 11,
   "id": "b1c06479",
   "metadata": {
    "execution": {
     "iopub.execute_input": "2023-05-07T09:22:19.237942Z",
     "iopub.status.busy": "2023-05-07T09:22:19.237180Z",
     "iopub.status.idle": "2023-05-07T09:22:20.704031Z",
     "shell.execute_reply": "2023-05-07T09:22:20.702670Z"
    },
    "papermill": {
     "duration": 1.476807,
     "end_time": "2023-05-07T09:22:20.706011",
     "exception": false,
     "start_time": "2023-05-07T09:22:19.229204",
     "status": "completed"
    },
    "tags": []
   },
   "outputs": [
    {
     "name": "stdout",
     "output_type": "stream",
     "text": [
      "/kaggle/input/da-brexit/Annoted_df_Parts/Annoteddf0.csv\n",
      "/kaggle/input/da-brexit/Annoted_df_Parts/Annoteddf1.csv\n",
      "/kaggle/input/da-brexit/Annoted_df_Parts/Annoteddf10.csv\n",
      "/kaggle/input/da-brexit/Annoted_df_Parts/Annoteddf11.csv\n",
      "/kaggle/input/da-brexit/Annoted_df_Parts/Annoteddf12.csv\n",
      "/kaggle/input/da-brexit/Annoted_df_Parts/Annoteddf13.csv\n",
      "/kaggle/input/da-brexit/Annoted_df_Parts/Annoteddf14.csv\n",
      "/kaggle/input/da-brexit/Annoted_df_Parts/Annoteddf15.csv\n",
      "/kaggle/input/da-brexit/Annoted_df_Parts/Annoteddf16.csv\n",
      "/kaggle/input/da-brexit/Annoted_df_Parts/Annoteddf17.csv\n",
      "/kaggle/input/da-brexit/Annoted_df_Parts/Annoteddf18.csv\n",
      "/kaggle/input/da-brexit/Annoted_df_Parts/Annoteddf19.csv\n",
      "/kaggle/input/da-brexit/Annoted_df_Parts/Annoteddf2.csv\n",
      "/kaggle/input/da-brexit/Annoted_df_Parts/Annoteddf3.csv\n",
      "/kaggle/input/da-brexit/Annoted_df_Parts/Annoteddf4.csv\n",
      "/kaggle/input/da-brexit/Annoted_df_Parts/Annoteddf5.csv\n",
      "/kaggle/input/da-brexit/Annoted_df_Parts/Annoteddf6.csv\n",
      "/kaggle/input/da-brexit/Annoted_df_Parts/Annoteddf7.csv\n",
      "/kaggle/input/da-brexit/Annoted_df_Parts/Annoteddf8.csv\n",
      "/kaggle/input/da-brexit/Annoted_df_Parts/Annoteddf9.csv\n"
     ]
    }
   ],
   "source": [
    "df = pd.DataFrame(columns=[\"text\",\"target\"])\n",
    "# folder path\n",
    "dir_path = r'/kaggle/input/da-brexit/Annoted_df_Parts/'\n",
    "directory='/kaggle/input/da-brexit/Annoted_df_Parts/'\n",
    "# list to store files\n",
    "res = []\n",
    "# Iterate directory\n",
    "for path in os.listdir(dir_path):\n",
    "    # check if current path is a file\n",
    "    if os.path.isfile(os.path.join(dir_path, path)):\n",
    "        res.append(path)\n",
    "res.sort()\n",
    "\n",
    "for i in range (0,len(res)):\n",
    "    filename= directory+ res[i]\n",
    "    print(filename)\n",
    "#     list_item=data_conv(filename)\n",
    "    new_df =pd.read_csv(filename)    \n",
    "    df=pd.concat([df, new_df], axis=0)"
   ]
  },
  {
   "cell_type": "code",
   "execution_count": 12,
   "id": "64717bc9",
   "metadata": {
    "execution": {
     "iopub.execute_input": "2023-05-07T09:22:20.723624Z",
     "iopub.status.busy": "2023-05-07T09:22:20.723341Z",
     "iopub.status.idle": "2023-05-07T09:22:20.733888Z",
     "shell.execute_reply": "2023-05-07T09:22:20.732944Z"
    },
    "papermill": {
     "duration": 0.021687,
     "end_time": "2023-05-07T09:22:20.736097",
     "exception": false,
     "start_time": "2023-05-07T09:22:20.714410",
     "status": "completed"
    },
    "tags": []
   },
   "outputs": [
    {
     "data": {
      "text/html": [
       "<div>\n",
       "<style scoped>\n",
       "    .dataframe tbody tr th:only-of-type {\n",
       "        vertical-align: middle;\n",
       "    }\n",
       "\n",
       "    .dataframe tbody tr th {\n",
       "        vertical-align: top;\n",
       "    }\n",
       "\n",
       "    .dataframe thead th {\n",
       "        text-align: right;\n",
       "    }\n",
       "</style>\n",
       "<table border=\"1\" class=\"dataframe\">\n",
       "  <thead>\n",
       "    <tr style=\"text-align: right;\">\n",
       "      <th></th>\n",
       "      <th>text</th>\n",
       "      <th>target</th>\n",
       "    </tr>\n",
       "  </thead>\n",
       "  <tbody>\n",
       "    <tr>\n",
       "      <th>0</th>\n",
       "      <td>在龙胜！\\n</td>\n",
       "      <td>0</td>\n",
       "    </tr>\n",
       "    <tr>\n",
       "      <th>1</th>\n",
       "      <td>@Fenng 大冯啊。你没有觉得我帐号很帅。\\n</td>\n",
       "      <td>0</td>\n",
       "    </tr>\n",
       "    <tr>\n",
       "      <th>2</th>\n",
       "      <td>其实我上来一次很不容易，有朋友说对我的ID感兴趣。虽然这是我无法割舍的帐号，但是每个人都是有...</td>\n",
       "      <td>0</td>\n",
       "    </tr>\n",
       "    <tr>\n",
       "      <th>3</th>\n",
       "      <td>还有。为什么我的头像被换成了个鸡蛋。太坏了吧\\n</td>\n",
       "      <td>0</td>\n",
       "    </tr>\n",
       "    <tr>\n",
       "      <th>4</th>\n",
       "      <td>Why is always someone trying to crack my passw...</td>\n",
       "      <td>0</td>\n",
       "    </tr>\n",
       "    <tr>\n",
       "      <th>...</th>\n",
       "      <td>...</td>\n",
       "      <td>...</td>\n",
       "    </tr>\n",
       "    <tr>\n",
       "      <th>18595</th>\n",
       "      <td>@BenDunnell @Woodpoliticshef @christopherhope ...</td>\n",
       "      <td>0</td>\n",
       "    </tr>\n",
       "    <tr>\n",
       "      <th>18596</th>\n",
       "      <td>@littlemacaron have you ever driven through Ea...</td>\n",
       "      <td>0</td>\n",
       "    </tr>\n",
       "    <tr>\n",
       "      <th>18597</th>\n",
       "      <td>RT @undertheraedar: \"From Anscombe's quartet t...</td>\n",
       "      <td>1</td>\n",
       "    </tr>\n",
       "    <tr>\n",
       "      <th>18598</th>\n",
       "      <td>Cabinet Office minister, John Penrose, suggest...</td>\n",
       "      <td>0</td>\n",
       "    </tr>\n",
       "    <tr>\n",
       "      <th>18599</th>\n",
       "      <td>@se_kip looks like Hull International Airport ...</td>\n",
       "      <td>1</td>\n",
       "    </tr>\n",
       "  </tbody>\n",
       "</table>\n",
       "<p>371985 rows × 2 columns</p>\n",
       "</div>"
      ],
      "text/plain": [
       "                                                    text target\n",
       "0                                                 在龙胜！\\n      0\n",
       "1                               @Fenng 大冯啊。你没有觉得我帐号很帅。\\n      0\n",
       "2      其实我上来一次很不容易，有朋友说对我的ID感兴趣。虽然这是我无法割舍的帐号，但是每个人都是有...      0\n",
       "3                               还有。为什么我的头像被换成了个鸡蛋。太坏了吧\\n      0\n",
       "4      Why is always someone trying to crack my passw...      0\n",
       "...                                                  ...    ...\n",
       "18595  @BenDunnell @Woodpoliticshef @christopherhope ...      0\n",
       "18596  @littlemacaron have you ever driven through Ea...      0\n",
       "18597  RT @undertheraedar: \"From Anscombe's quartet t...      1\n",
       "18598  Cabinet Office minister, John Penrose, suggest...      0\n",
       "18599  @se_kip looks like Hull International Airport ...      1\n",
       "\n",
       "[371985 rows x 2 columns]"
      ]
     },
     "execution_count": 12,
     "metadata": {},
     "output_type": "execute_result"
    }
   ],
   "source": [
    "df"
   ]
  },
  {
   "cell_type": "code",
   "execution_count": 13,
   "id": "30daf717",
   "metadata": {
    "execution": {
     "iopub.execute_input": "2023-05-07T09:22:20.757373Z",
     "iopub.status.busy": "2023-05-07T09:22:20.757055Z",
     "iopub.status.idle": "2023-05-07T09:22:20.979705Z",
     "shell.execute_reply": "2023-05-07T09:22:20.978535Z"
    },
    "papermill": {
     "duration": 0.237413,
     "end_time": "2023-05-07T09:22:20.982346",
     "exception": false,
     "start_time": "2023-05-07T09:22:20.744933",
     "status": "completed"
    },
    "tags": []
   },
   "outputs": [
    {
     "data": {
      "text/html": [
       "<div>\n",
       "<style scoped>\n",
       "    .dataframe tbody tr th:only-of-type {\n",
       "        vertical-align: middle;\n",
       "    }\n",
       "\n",
       "    .dataframe tbody tr th {\n",
       "        vertical-align: top;\n",
       "    }\n",
       "\n",
       "    .dataframe thead th {\n",
       "        text-align: right;\n",
       "    }\n",
       "</style>\n",
       "<table border=\"1\" class=\"dataframe\">\n",
       "  <thead>\n",
       "    <tr style=\"text-align: right;\">\n",
       "      <th></th>\n",
       "      <th>text</th>\n",
       "      <th>target</th>\n",
       "      <th>text_length</th>\n",
       "    </tr>\n",
       "  </thead>\n",
       "  <tbody>\n",
       "    <tr>\n",
       "      <th>0</th>\n",
       "      <td>在龙胜！\\n</td>\n",
       "      <td>0</td>\n",
       "      <td>5</td>\n",
       "    </tr>\n",
       "    <tr>\n",
       "      <th>1</th>\n",
       "      <td>@Fenng 大冯啊。你没有觉得我帐号很帅。\\n</td>\n",
       "      <td>0</td>\n",
       "      <td>23</td>\n",
       "    </tr>\n",
       "    <tr>\n",
       "      <th>2</th>\n",
       "      <td>其实我上来一次很不容易，有朋友说对我的ID感兴趣。虽然这是我无法割舍的帐号，但是每个人都是有...</td>\n",
       "      <td>0</td>\n",
       "      <td>113</td>\n",
       "    </tr>\n",
       "    <tr>\n",
       "      <th>3</th>\n",
       "      <td>还有。为什么我的头像被换成了个鸡蛋。太坏了吧\\n</td>\n",
       "      <td>0</td>\n",
       "      <td>23</td>\n",
       "    </tr>\n",
       "    <tr>\n",
       "      <th>4</th>\n",
       "      <td>Why is always someone trying to crack my passw...</td>\n",
       "      <td>0</td>\n",
       "      <td>106</td>\n",
       "    </tr>\n",
       "  </tbody>\n",
       "</table>\n",
       "</div>"
      ],
      "text/plain": [
       "                                                text target  text_length\n",
       "0                                             在龙胜！\\n      0            5\n",
       "1                           @Fenng 大冯啊。你没有觉得我帐号很帅。\\n      0           23\n",
       "2  其实我上来一次很不容易，有朋友说对我的ID感兴趣。虽然这是我无法割舍的帐号，但是每个人都是有...      0          113\n",
       "3                           还有。为什么我的头像被换成了个鸡蛋。太坏了吧\\n      0           23\n",
       "4  Why is always someone trying to crack my passw...      0          106"
      ]
     },
     "execution_count": 13,
     "metadata": {},
     "output_type": "execute_result"
    }
   ],
   "source": [
    "df['text_length'] = df['text'].apply(len)\n",
    "df.head()"
   ]
  },
  {
   "cell_type": "code",
   "execution_count": 14,
   "id": "62f4d21c",
   "metadata": {
    "execution": {
     "iopub.execute_input": "2023-05-07T09:22:21.001033Z",
     "iopub.status.busy": "2023-05-07T09:22:21.000768Z",
     "iopub.status.idle": "2023-05-07T09:22:21.383489Z",
     "shell.execute_reply": "2023-05-07T09:22:21.382635Z"
    },
    "papermill": {
     "duration": 0.393797,
     "end_time": "2023-05-07T09:22:21.385394",
     "exception": false,
     "start_time": "2023-05-07T09:22:20.991597",
     "status": "completed"
    },
    "tags": []
   },
   "outputs": [
    {
     "data": {
      "image/png": "[encoded data removed]",
      "text/plain": [
       "<Figure size 700x500 with 1 Axes>"
      ]
     },
     "metadata": {},
     "output_type": "display_data"
    }
   ],
   "source": [
    "df['text_length'].plot(kind='hist', bins=50, figsize=(7, 5));"
   ]
  },
  {
   "cell_type": "code",
   "execution_count": 15,
   "id": "e97b08d1",
   "metadata": {
    "execution": {
     "iopub.execute_input": "2023-05-07T09:22:21.404991Z",
     "iopub.status.busy": "2023-05-07T09:22:21.403468Z",
     "iopub.status.idle": "2023-05-07T09:22:21.425476Z",
     "shell.execute_reply": "2023-05-07T09:22:21.424414Z"
    },
    "papermill": {
     "duration": 0.033885,
     "end_time": "2023-05-07T09:22:21.427795",
     "exception": false,
     "start_time": "2023-05-07T09:22:21.393910",
     "status": "completed"
    },
    "tags": []
   },
   "outputs": [
    {
     "data": {
      "text/plain": [
       "count    371985.000000\n",
       "mean        112.603672\n",
       "std          48.970940\n",
       "min           2.000000\n",
       "25%          76.000000\n",
       "50%         119.000000\n",
       "75%         141.000000\n",
       "max         615.000000\n",
       "Name: text_length, dtype: float64"
      ]
     },
     "execution_count": 15,
     "metadata": {},
     "output_type": "execute_result"
    }
   ],
   "source": [
    "df['text_length'].describe()"
   ]
  },
  {
   "cell_type": "code",
   "execution_count": 16,
   "id": "e182c7de",
   "metadata": {
    "execution": {
     "iopub.execute_input": "2023-05-07T09:22:21.446485Z",
     "iopub.status.busy": "2023-05-07T09:22:21.446230Z",
     "iopub.status.idle": "2023-05-07T09:22:21.452901Z",
     "shell.execute_reply": "2023-05-07T09:22:21.452082Z"
    },
    "papermill": {
     "duration": 0.017688,
     "end_time": "2023-05-07T09:22:21.454714",
     "exception": false,
     "start_time": "2023-05-07T09:22:21.437026",
     "status": "completed"
    },
    "tags": []
   },
   "outputs": [
    {
     "data": {
      "text/plain": [
       "Index(['text', 'target', 'text_length'], dtype='object')"
      ]
     },
     "execution_count": 16,
     "metadata": {},
     "output_type": "execute_result"
    }
   ],
   "source": [
    "df.columns"
   ]
  },
  {
   "cell_type": "code",
   "execution_count": 17,
   "id": "0cf768ac",
   "metadata": {
    "execution": {
     "iopub.execute_input": "2023-05-07T09:22:21.472694Z",
     "iopub.status.busy": "2023-05-07T09:22:21.472452Z",
     "iopub.status.idle": "2023-05-07T09:22:21.496148Z",
     "shell.execute_reply": "2023-05-07T09:22:21.495435Z"
    },
    "papermill": {
     "duration": 0.034956,
     "end_time": "2023-05-07T09:22:21.498036",
     "exception": false,
     "start_time": "2023-05-07T09:22:21.463080",
     "status": "completed"
    },
    "tags": []
   },
   "outputs": [],
   "source": [
    "df=df.drop('text_length', axis=1)"
   ]
  },
  {
   "cell_type": "code",
   "execution_count": 18,
   "id": "41d77aad",
   "metadata": {
    "execution": {
     "iopub.execute_input": "2023-05-07T09:22:21.515699Z",
     "iopub.status.busy": "2023-05-07T09:22:21.515459Z",
     "iopub.status.idle": "2023-05-07T09:22:21.526572Z",
     "shell.execute_reply": "2023-05-07T09:22:21.525787Z"
    },
    "papermill": {
     "duration": 0.022359,
     "end_time": "2023-05-07T09:22:21.528657",
     "exception": false,
     "start_time": "2023-05-07T09:22:21.506298",
     "status": "completed"
    },
    "tags": []
   },
   "outputs": [
    {
     "data": {
      "text/html": [
       "<div>\n",
       "<style scoped>\n",
       "    .dataframe tbody tr th:only-of-type {\n",
       "        vertical-align: middle;\n",
       "    }\n",
       "\n",
       "    .dataframe tbody tr th {\n",
       "        vertical-align: top;\n",
       "    }\n",
       "\n",
       "    .dataframe thead th {\n",
       "        text-align: right;\n",
       "    }\n",
       "</style>\n",
       "<table border=\"1\" class=\"dataframe\">\n",
       "  <thead>\n",
       "    <tr style=\"text-align: right;\">\n",
       "      <th></th>\n",
       "      <th>text</th>\n",
       "      <th>target</th>\n",
       "    </tr>\n",
       "  </thead>\n",
       "  <tbody>\n",
       "    <tr>\n",
       "      <th>0</th>\n",
       "      <td>在龙胜！\\n</td>\n",
       "      <td>0</td>\n",
       "    </tr>\n",
       "    <tr>\n",
       "      <th>1</th>\n",
       "      <td>@Fenng 大冯啊。你没有觉得我帐号很帅。\\n</td>\n",
       "      <td>0</td>\n",
       "    </tr>\n",
       "    <tr>\n",
       "      <th>2</th>\n",
       "      <td>其实我上来一次很不容易，有朋友说对我的ID感兴趣。虽然这是我无法割舍的帐号，但是每个人都是有...</td>\n",
       "      <td>0</td>\n",
       "    </tr>\n",
       "    <tr>\n",
       "      <th>3</th>\n",
       "      <td>还有。为什么我的头像被换成了个鸡蛋。太坏了吧\\n</td>\n",
       "      <td>0</td>\n",
       "    </tr>\n",
       "    <tr>\n",
       "      <th>4</th>\n",
       "      <td>Why is always someone trying to crack my passw...</td>\n",
       "      <td>0</td>\n",
       "    </tr>\n",
       "    <tr>\n",
       "      <th>...</th>\n",
       "      <td>...</td>\n",
       "      <td>...</td>\n",
       "    </tr>\n",
       "    <tr>\n",
       "      <th>18595</th>\n",
       "      <td>@BenDunnell @Woodpoliticshef @christopherhope ...</td>\n",
       "      <td>0</td>\n",
       "    </tr>\n",
       "    <tr>\n",
       "      <th>18596</th>\n",
       "      <td>@littlemacaron have you ever driven through Ea...</td>\n",
       "      <td>0</td>\n",
       "    </tr>\n",
       "    <tr>\n",
       "      <th>18597</th>\n",
       "      <td>RT @undertheraedar: \"From Anscombe's quartet t...</td>\n",
       "      <td>1</td>\n",
       "    </tr>\n",
       "    <tr>\n",
       "      <th>18598</th>\n",
       "      <td>Cabinet Office minister, John Penrose, suggest...</td>\n",
       "      <td>0</td>\n",
       "    </tr>\n",
       "    <tr>\n",
       "      <th>18599</th>\n",
       "      <td>@se_kip looks like Hull International Airport ...</td>\n",
       "      <td>1</td>\n",
       "    </tr>\n",
       "  </tbody>\n",
       "</table>\n",
       "<p>371985 rows × 2 columns</p>\n",
       "</div>"
      ],
      "text/plain": [
       "                                                    text target\n",
       "0                                                 在龙胜！\\n      0\n",
       "1                               @Fenng 大冯啊。你没有觉得我帐号很帅。\\n      0\n",
       "2      其实我上来一次很不容易，有朋友说对我的ID感兴趣。虽然这是我无法割舍的帐号，但是每个人都是有...      0\n",
       "3                               还有。为什么我的头像被换成了个鸡蛋。太坏了吧\\n      0\n",
       "4      Why is always someone trying to crack my passw...      0\n",
       "...                                                  ...    ...\n",
       "18595  @BenDunnell @Woodpoliticshef @christopherhope ...      0\n",
       "18596  @littlemacaron have you ever driven through Ea...      0\n",
       "18597  RT @undertheraedar: \"From Anscombe's quartet t...      1\n",
       "18598  Cabinet Office minister, John Penrose, suggest...      0\n",
       "18599  @se_kip looks like Hull International Airport ...      1\n",
       "\n",
       "[371985 rows x 2 columns]"
      ]
     },
     "execution_count": 18,
     "metadata": {},
     "output_type": "execute_result"
    }
   ],
   "source": [
    "df"
   ]
  },
  {
   "cell_type": "code",
   "execution_count": 19,
   "id": "e0232c3e",
   "metadata": {
    "execution": {
     "iopub.execute_input": "2023-05-07T09:22:21.547698Z",
     "iopub.status.busy": "2023-05-07T09:22:21.547441Z",
     "iopub.status.idle": "2023-05-07T09:22:21.551328Z",
     "shell.execute_reply": "2023-05-07T09:22:21.550387Z"
    },
    "papermill": {
     "duration": 0.015618,
     "end_time": "2023-05-07T09:22:21.553479",
     "exception": false,
     "start_time": "2023-05-07T09:22:21.537861",
     "status": "completed"
    },
    "tags": []
   },
   "outputs": [],
   "source": [
    "# index_lst= list(range(0,len(df)))\n",
    "# df['index']=index_lst\n",
    "# df"
   ]
  },
  {
   "cell_type": "code",
   "execution_count": 20,
   "id": "87bec9d7",
   "metadata": {
    "execution": {
     "iopub.execute_input": "2023-05-07T09:22:21.572862Z",
     "iopub.status.busy": "2023-05-07T09:22:21.572625Z",
     "iopub.status.idle": "2023-05-07T09:22:21.576287Z",
     "shell.execute_reply": "2023-05-07T09:22:21.575408Z"
    },
    "papermill": {
     "duration": 0.015918,
     "end_time": "2023-05-07T09:22:21.578468",
     "exception": false,
     "start_time": "2023-05-07T09:22:21.562550",
     "status": "completed"
    },
    "tags": []
   },
   "outputs": [],
   "source": [
    "# # setting index col as index column\n",
    "# df.set_index('index', inplace = True)\n",
    "# df"
   ]
  },
  {
   "cell_type": "code",
   "execution_count": 21,
   "id": "6353a38f",
   "metadata": {
    "execution": {
     "iopub.execute_input": "2023-05-07T09:22:21.597311Z",
     "iopub.status.busy": "2023-05-07T09:22:21.597044Z",
     "iopub.status.idle": "2023-05-07T09:22:21.601601Z",
     "shell.execute_reply": "2023-05-07T09:22:21.600850Z"
    },
    "papermill": {
     "duration": 0.015586,
     "end_time": "2023-05-07T09:22:21.603338",
     "exception": false,
     "start_time": "2023-05-07T09:22:21.587752",
     "status": "completed"
    },
    "tags": []
   },
   "outputs": [],
   "source": [
    "# df.head()"
   ]
  },
  {
   "cell_type": "code",
   "execution_count": 22,
   "id": "8d881c5d",
   "metadata": {
    "execution": {
     "iopub.execute_input": "2023-05-07T09:22:21.621220Z",
     "iopub.status.busy": "2023-05-07T09:22:21.620976Z",
     "iopub.status.idle": "2023-05-07T09:22:21.643723Z",
     "shell.execute_reply": "2023-05-07T09:22:21.642943Z"
    },
    "papermill": {
     "duration": 0.033567,
     "end_time": "2023-05-07T09:22:21.645381",
     "exception": false,
     "start_time": "2023-05-07T09:22:21.611814",
     "status": "completed"
    },
    "tags": []
   },
   "outputs": [
    {
     "data": {
      "text/plain": [
       "0    225583\n",
       "1    146402\n",
       "Name: target, dtype: int64"
      ]
     },
     "execution_count": 22,
     "metadata": {},
     "output_type": "execute_result"
    }
   ],
   "source": [
    "df['target'].value_counts()"
   ]
  },
  {
   "cell_type": "code",
   "execution_count": 23,
   "id": "9dd9085a",
   "metadata": {
    "execution": {
     "iopub.execute_input": "2023-05-07T09:22:21.663664Z",
     "iopub.status.busy": "2023-05-07T09:22:21.663050Z",
     "iopub.status.idle": "2023-05-07T09:22:22.744790Z",
     "shell.execute_reply": "2023-05-07T09:22:22.743899Z"
    },
    "papermill": {
     "duration": 1.09308,
     "end_time": "2023-05-07T09:22:22.746946",
     "exception": false,
     "start_time": "2023-05-07T09:22:21.653866",
     "status": "completed"
    },
    "tags": []
   },
   "outputs": [],
   "source": [
    "df.to_csv('AnnotedBrexit.csv',index=False)"
   ]
  }
 ],
 "metadata": {
  "kernelspec": {
   "display_name": "Python 3",
   "language": "python",
   "name": "python3"
  },
  "language_info": {
   "codemirror_mode": {
    "name": "ipython",
    "version": 3
   },
   "file_extension": ".py",
   "mimetype": "text/x-python",
   "name": "python",
   "nbconvert_exporter": "python",
   "pygments_lexer": "ipython3",
   "version": "3.10.10"
  },
  "papermill": {
   "default_parameters": {},
   "duration": 28.975341,
   "end_time": "2023-05-07T09:22:23.576817",
   "environment_variables": {},
   "exception": null,
   "input_path": "__notebook__.ipynb",
   "output_path": "__notebook__.ipynb",
   "parameters": {},
   "start_time": "2023-05-07T09:21:54.601476",
   "version": "2.4.0"
  }
 },
 "nbformat": 4,
 "nbformat_minor": 5
}
